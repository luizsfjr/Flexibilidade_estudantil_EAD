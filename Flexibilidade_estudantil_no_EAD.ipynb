{
  "cells": [
    {
      "cell_type": "markdown",
      "id": "78c38d8b",
      "metadata": {
        "id": "78c38d8b"
      },
      "source": [
        "# Base de dados"
      ]
    },
    {
      "cell_type": "markdown",
      "id": "baaa8849",
      "metadata": {
        "id": "baaa8849"
      },
      "source": [
        "Disponível em <https://www.kaggle.com/datasets/shariful07/student-flexibility-in-online-learning>"
      ]
    },
    {
      "cell_type": "markdown",
      "id": "6cf2ae04",
      "metadata": {
        "id": "6cf2ae04"
      },
      "source": [
        "# 1. Importação das bibliotecas"
      ]
    },
    {
      "cell_type": "code",
      "execution_count": null,
      "id": "71bdb101",
      "metadata": {
        "id": "71bdb101"
      },
      "outputs": [],
      "source": [
        "# Visualização e manipulação dos dados\n",
        "import pandas as pd\n",
        "import seaborn as sns\n",
        "import matplotlib.pyplot as plt\n",
        "\n",
        "# Teste de hipótese\n",
        "from scipy.stats import mannwhitneyu, shapiro\n",
        "\n",
        "# Aprendizado de máquina\n",
        "from sklearn.preprocessing import MinMaxScaler\n",
        "from sklearn.model_selection import train_test_split\n",
        "from sklearn.preprocessing import OneHotEncoder\n",
        "\n",
        "from sklearn.linear_model import LogisticRegression\n",
        "from sklearn.tree import DecisionTreeClassifier\n",
        "from sklearn.ensemble import RandomForestClassifier\n",
        "from sklearn.metrics import classification_report\n",
        "\n",
        "# Auto-ML\n",
        "#!pip install markupsafe==2.0.1\n",
        "#!pip install pycaret\n",
        "import jinja2\n",
        "from pycaret.classification import *\n",
        "\n",
        "# Extras\n",
        "import warnings\n",
        "warnings.filterwarnings(\"ignore\")\n",
        "%matplotlib inline"
      ]
    },
    {
      "cell_type": "markdown",
      "id": "c0ba9a8c",
      "metadata": {
        "id": "c0ba9a8c"
      },
      "source": [
        "# 2. Carregamento e informações da base de dados"
      ]
    },
    {
      "cell_type": "code",
      "execution_count": null,
      "id": "02712a9a",
      "metadata": {
        "id": "02712a9a"
      },
      "outputs": [],
      "source": [
        "df = pd.read_csv('dados.csv')"
      ]
    },
    {
      "cell_type": "markdown",
      "id": "ec1d793d",
      "metadata": {
        "id": "ec1d793d"
      },
      "source": [
        "## 2.1 Há dados faltantes?"
      ]
    },
    {
      "cell_type": "code",
      "execution_count": null,
      "id": "6d8300d0",
      "metadata": {
        "colab": {
          "base_uri": "https://localhost:8080/"
        },
        "id": "6d8300d0",
        "outputId": "72ac7c52-6d48-4035-9fb7-64bb7dd6d788"
      },
      "outputs": [
        {
          "output_type": "stream",
          "name": "stdout",
          "text": [
            "<class 'pandas.core.frame.DataFrame'>\n",
            "RangeIndex: 1205 entries, 0 to 1204\n",
            "Data columns (total 11 columns):\n",
            " #   Column               Non-Null Count  Dtype \n",
            "---  ------               --------------  ----- \n",
            " 0   Education Level      1205 non-null   object\n",
            " 1   Institution Type     1205 non-null   object\n",
            " 2   Gender               1205 non-null   object\n",
            " 3   Age                  1205 non-null   int64 \n",
            " 4   Device               1205 non-null   object\n",
            " 5   IT Student           1205 non-null   object\n",
            " 6   Location             1205 non-null   object\n",
            " 7   Financial Condition  1205 non-null   object\n",
            " 8   Internet Type        1205 non-null   object\n",
            " 9   Network Type         1205 non-null   object\n",
            " 10  Flexibility Level    1205 non-null   object\n",
            "dtypes: int64(1), object(10)\n",
            "memory usage: 103.7+ KB\n"
          ]
        }
      ],
      "source": [
        "df.info()"
      ]
    },
    {
      "cell_type": "markdown",
      "id": "8f190b11",
      "metadata": {
        "id": "8f190b11"
      },
      "source": [
        "<span style=\"color:green\"> Não! </span>"
      ]
    },
    {
      "cell_type": "code",
      "execution_count": null,
      "id": "85ac7db3",
      "metadata": {
        "colab": {
          "base_uri": "https://localhost:8080/"
        },
        "id": "85ac7db3",
        "outputId": "d379331f-22b3-4053-d101-3d5d92b68026"
      },
      "outputs": [
        {
          "output_type": "stream",
          "name": "stdout",
          "text": [
            "1205 linhas e 11 colunas\n"
          ]
        }
      ],
      "source": [
        "# Shape do dataset\n",
        "print(f'{df.shape[0]} linhas e {df.shape[1]} colunas')"
      ]
    },
    {
      "cell_type": "code",
      "execution_count": null,
      "id": "3735398f",
      "metadata": {
        "colab": {
          "base_uri": "https://localhost:8080/",
          "height": 206
        },
        "id": "3735398f",
        "outputId": "002c79e1-04bf-4415-f012-36600b062576"
      },
      "outputs": [
        {
          "output_type": "execute_result",
          "data": {
            "text/plain": [
              "  Education Level Institution Type  Gender  Age  Device IT Student Location  \\\n",
              "0      University          Private    Male   23     Tab         No     Town   \n",
              "1      University          Private  Female   23  Mobile         No     Town   \n",
              "2         College           Public  Female   18  Mobile         No     Town   \n",
              "3          School          Private  Female   11  Mobile         No     Town   \n",
              "4          School          Private  Female   18  Mobile         No     Town   \n",
              "\n",
              "  Financial Condition Internet Type Network Type Flexibility Level  \n",
              "0                 Mid          Wifi           4G          Moderate  \n",
              "1                 Mid   Mobile Data           4G          Moderate  \n",
              "2                 Mid          Wifi           4G          Moderate  \n",
              "3                 Mid   Mobile Data           4G          Moderate  \n",
              "4                Poor   Mobile Data           3G               Low  "
            ],
            "text/html": [
              "\n",
              "  <div id=\"df-96890158-fe61-4a0f-bec0-01c14eab9fc0\">\n",
              "    <div class=\"colab-df-container\">\n",
              "      <div>\n",
              "<style scoped>\n",
              "    .dataframe tbody tr th:only-of-type {\n",
              "        vertical-align: middle;\n",
              "    }\n",
              "\n",
              "    .dataframe tbody tr th {\n",
              "        vertical-align: top;\n",
              "    }\n",
              "\n",
              "    .dataframe thead th {\n",
              "        text-align: right;\n",
              "    }\n",
              "</style>\n",
              "<table border=\"1\" class=\"dataframe\">\n",
              "  <thead>\n",
              "    <tr style=\"text-align: right;\">\n",
              "      <th></th>\n",
              "      <th>Education Level</th>\n",
              "      <th>Institution Type</th>\n",
              "      <th>Gender</th>\n",
              "      <th>Age</th>\n",
              "      <th>Device</th>\n",
              "      <th>IT Student</th>\n",
              "      <th>Location</th>\n",
              "      <th>Financial Condition</th>\n",
              "      <th>Internet Type</th>\n",
              "      <th>Network Type</th>\n",
              "      <th>Flexibility Level</th>\n",
              "    </tr>\n",
              "  </thead>\n",
              "  <tbody>\n",
              "    <tr>\n",
              "      <th>0</th>\n",
              "      <td>University</td>\n",
              "      <td>Private</td>\n",
              "      <td>Male</td>\n",
              "      <td>23</td>\n",
              "      <td>Tab</td>\n",
              "      <td>No</td>\n",
              "      <td>Town</td>\n",
              "      <td>Mid</td>\n",
              "      <td>Wifi</td>\n",
              "      <td>4G</td>\n",
              "      <td>Moderate</td>\n",
              "    </tr>\n",
              "    <tr>\n",
              "      <th>1</th>\n",
              "      <td>University</td>\n",
              "      <td>Private</td>\n",
              "      <td>Female</td>\n",
              "      <td>23</td>\n",
              "      <td>Mobile</td>\n",
              "      <td>No</td>\n",
              "      <td>Town</td>\n",
              "      <td>Mid</td>\n",
              "      <td>Mobile Data</td>\n",
              "      <td>4G</td>\n",
              "      <td>Moderate</td>\n",
              "    </tr>\n",
              "    <tr>\n",
              "      <th>2</th>\n",
              "      <td>College</td>\n",
              "      <td>Public</td>\n",
              "      <td>Female</td>\n",
              "      <td>18</td>\n",
              "      <td>Mobile</td>\n",
              "      <td>No</td>\n",
              "      <td>Town</td>\n",
              "      <td>Mid</td>\n",
              "      <td>Wifi</td>\n",
              "      <td>4G</td>\n",
              "      <td>Moderate</td>\n",
              "    </tr>\n",
              "    <tr>\n",
              "      <th>3</th>\n",
              "      <td>School</td>\n",
              "      <td>Private</td>\n",
              "      <td>Female</td>\n",
              "      <td>11</td>\n",
              "      <td>Mobile</td>\n",
              "      <td>No</td>\n",
              "      <td>Town</td>\n",
              "      <td>Mid</td>\n",
              "      <td>Mobile Data</td>\n",
              "      <td>4G</td>\n",
              "      <td>Moderate</td>\n",
              "    </tr>\n",
              "    <tr>\n",
              "      <th>4</th>\n",
              "      <td>School</td>\n",
              "      <td>Private</td>\n",
              "      <td>Female</td>\n",
              "      <td>18</td>\n",
              "      <td>Mobile</td>\n",
              "      <td>No</td>\n",
              "      <td>Town</td>\n",
              "      <td>Poor</td>\n",
              "      <td>Mobile Data</td>\n",
              "      <td>3G</td>\n",
              "      <td>Low</td>\n",
              "    </tr>\n",
              "  </tbody>\n",
              "</table>\n",
              "</div>\n",
              "      <button class=\"colab-df-convert\" onclick=\"convertToInteractive('df-96890158-fe61-4a0f-bec0-01c14eab9fc0')\"\n",
              "              title=\"Convert this dataframe to an interactive table.\"\n",
              "              style=\"display:none;\">\n",
              "        \n",
              "  <svg xmlns=\"http://www.w3.org/2000/svg\" height=\"24px\"viewBox=\"0 0 24 24\"\n",
              "       width=\"24px\">\n",
              "    <path d=\"M0 0h24v24H0V0z\" fill=\"none\"/>\n",
              "    <path d=\"M18.56 5.44l.94 2.06.94-2.06 2.06-.94-2.06-.94-.94-2.06-.94 2.06-2.06.94zm-11 1L8.5 8.5l.94-2.06 2.06-.94-2.06-.94L8.5 2.5l-.94 2.06-2.06.94zm10 10l.94 2.06.94-2.06 2.06-.94-2.06-.94-.94-2.06-.94 2.06-2.06.94z\"/><path d=\"M17.41 7.96l-1.37-1.37c-.4-.4-.92-.59-1.43-.59-.52 0-1.04.2-1.43.59L10.3 9.45l-7.72 7.72c-.78.78-.78 2.05 0 2.83L4 21.41c.39.39.9.59 1.41.59.51 0 1.02-.2 1.41-.59l7.78-7.78 2.81-2.81c.8-.78.8-2.07 0-2.86zM5.41 20L4 18.59l7.72-7.72 1.47 1.35L5.41 20z\"/>\n",
              "  </svg>\n",
              "      </button>\n",
              "      \n",
              "  <style>\n",
              "    .colab-df-container {\n",
              "      display:flex;\n",
              "      flex-wrap:wrap;\n",
              "      gap: 12px;\n",
              "    }\n",
              "\n",
              "    .colab-df-convert {\n",
              "      background-color: #E8F0FE;\n",
              "      border: none;\n",
              "      border-radius: 50%;\n",
              "      cursor: pointer;\n",
              "      display: none;\n",
              "      fill: #1967D2;\n",
              "      height: 32px;\n",
              "      padding: 0 0 0 0;\n",
              "      width: 32px;\n",
              "    }\n",
              "\n",
              "    .colab-df-convert:hover {\n",
              "      background-color: #E2EBFA;\n",
              "      box-shadow: 0px 1px 2px rgba(60, 64, 67, 0.3), 0px 1px 3px 1px rgba(60, 64, 67, 0.15);\n",
              "      fill: #174EA6;\n",
              "    }\n",
              "\n",
              "    [theme=dark] .colab-df-convert {\n",
              "      background-color: #3B4455;\n",
              "      fill: #D2E3FC;\n",
              "    }\n",
              "\n",
              "    [theme=dark] .colab-df-convert:hover {\n",
              "      background-color: #434B5C;\n",
              "      box-shadow: 0px 1px 3px 1px rgba(0, 0, 0, 0.15);\n",
              "      filter: drop-shadow(0px 1px 2px rgba(0, 0, 0, 0.3));\n",
              "      fill: #FFFFFF;\n",
              "    }\n",
              "  </style>\n",
              "\n",
              "      <script>\n",
              "        const buttonEl =\n",
              "          document.querySelector('#df-96890158-fe61-4a0f-bec0-01c14eab9fc0 button.colab-df-convert');\n",
              "        buttonEl.style.display =\n",
              "          google.colab.kernel.accessAllowed ? 'block' : 'none';\n",
              "\n",
              "        async function convertToInteractive(key) {\n",
              "          const element = document.querySelector('#df-96890158-fe61-4a0f-bec0-01c14eab9fc0');\n",
              "          const dataTable =\n",
              "            await google.colab.kernel.invokeFunction('convertToInteractive',\n",
              "                                                     [key], {});\n",
              "          if (!dataTable) return;\n",
              "\n",
              "          const docLinkHtml = 'Like what you see? Visit the ' +\n",
              "            '<a target=\"_blank\" href=https://colab.research.google.com/notebooks/data_table.ipynb>data table notebook</a>'\n",
              "            + ' to learn more about interactive tables.';\n",
              "          element.innerHTML = '';\n",
              "          dataTable['output_type'] = 'display_data';\n",
              "          await google.colab.output.renderOutput(dataTable, element);\n",
              "          const docLink = document.createElement('div');\n",
              "          docLink.innerHTML = docLinkHtml;\n",
              "          element.appendChild(docLink);\n",
              "        }\n",
              "      </script>\n",
              "    </div>\n",
              "  </div>\n",
              "  "
            ]
          },
          "metadata": {},
          "execution_count": 175
        }
      ],
      "source": [
        "df.head()"
      ]
    },
    {
      "cell_type": "markdown",
      "id": "31070197",
      "metadata": {
        "id": "31070197"
      },
      "source": [
        "# 3. Análise Exploratória"
      ]
    },
    {
      "cell_type": "markdown",
      "id": "a64c62d8",
      "metadata": {
        "id": "a64c62d8"
      },
      "source": [
        "## 3.1 Em relação a variável alvo, os dados estão balanceados?"
      ]
    },
    {
      "cell_type": "code",
      "execution_count": null,
      "id": "43496b30",
      "metadata": {
        "colab": {
          "base_uri": "https://localhost:8080/",
          "height": 407
        },
        "id": "43496b30",
        "outputId": "b85fdce0-a498-4c76-bcba-a93f1afecad1"
      },
      "outputs": [
        {
          "output_type": "display_data",
          "data": {
            "text/plain": [
              "<Figure size 864x432 with 1 Axes>"
            ],
            "image/png": "[encoded data removed]"
          },
          "metadata": {
            "needs_background": "light"
          }
        }
      ],
      "source": [
        "# Variável alvo\n",
        "plt.rcParams['figure.figsize'] = (12, 6)\n",
        "f = sns.countplot(x='Flexibility Level', data=df)\n",
        "f.set_title('Ocorrências por nível de flexibilidade')\n",
        "f.set_xlabel('Nível de flexibilidade',fontsize=15,)\n",
        "f.set_ylabel('Quantidade',fontsize=15)\n",
        "plt.show()"
      ]
    },
    {
      "cell_type": "markdown",
      "id": "ca5f6d7d",
      "metadata": {
        "id": "ca5f6d7d"
      },
      "source": [
        "<span style=\"color:red\"><strong>Não, os dados estão desbalanceados!!</strong></span>"
      ]
    },
    {
      "cell_type": "markdown",
      "id": "cfe6ca91",
      "metadata": {
        "id": "cfe6ca91"
      },
      "source": [
        "## 3.2 Qual a distribução de níveis de educação dos estudantes?"
      ]
    },
    {
      "cell_type": "code",
      "execution_count": null,
      "id": "3c82d45a",
      "metadata": {
        "colab": {
          "base_uri": "https://localhost:8080/",
          "height": 407
        },
        "id": "3c82d45a",
        "outputId": "f0f7a786-bfff-4325-afd2-fce1e7905be8"
      },
      "outputs": [
        {
          "output_type": "display_data",
          "data": {
            "text/plain": [
              "<Figure size 864x432 with 1 Axes>"
            ],
            "image/png": "[encoded data removed]"
          },
          "metadata": {
            "needs_background": "light"
          }
        }
      ],
      "source": [
        "plt.rcParams['figure.figsize'] = (12, 6)\n",
        "f = sns.countplot(x='Education Level', data=df)\n",
        "f.set_title('Ocorrências por nível educacional')\n",
        "f.set_xlabel('Nível educacional',fontsize=15,)\n",
        "f.set_ylabel('Quantidade',fontsize=15)\n",
        "plt.show()"
      ]
    },
    {
      "cell_type": "markdown",
      "id": "ee6d063f",
      "metadata": {
        "id": "ee6d063f"
      },
      "source": [
        "* Cerca de 43.9% na School\n",
        "* Cerca de 37.8% na University\n",
        "* Cerca de 18.1% no College"
      ]
    },
    {
      "cell_type": "markdown",
      "id": "58735758",
      "metadata": {
        "id": "58735758"
      },
      "source": [
        "## 3.3 Qual o tipo de instituição de ensino mais predomindante no dataset?"
      ]
    },
    {
      "cell_type": "code",
      "execution_count": null,
      "id": "7ae2dc76",
      "metadata": {
        "colab": {
          "base_uri": "https://localhost:8080/",
          "height": 407
        },
        "id": "7ae2dc76",
        "outputId": "fd2e0a20-7df9-41cc-a4f0-e78a709e4c29"
      },
      "outputs": [
        {
          "output_type": "display_data",
          "data": {
            "text/plain": [
              "<Figure size 864x432 with 1 Axes>"
            ],
            "image/png": "[encoded data removed]"
          },
          "metadata": {
            "needs_background": "light"
          }
        }
      ],
      "source": [
        "plt.rcParams['figure.figsize'] = (12, 6)\n",
        "f = sns.countplot(x='Institution Type', data=df)\n",
        "f.set_title('Ocorrências por tipo de instituição de ensino')\n",
        "f.set_xlabel('Tipo de instituição',fontsize=15,)\n",
        "f.set_ylabel('Quantidade',fontsize=15)\n",
        "plt.show()"
      ]
    },
    {
      "cell_type": "markdown",
      "id": "39bbfa10",
      "metadata": {
        "id": "39bbfa10"
      },
      "source": [
        "<strong> Instituição privada! </strong>"
      ]
    },
    {
      "cell_type": "markdown",
      "id": "f751d437",
      "metadata": {
        "id": "f751d437"
      },
      "source": [
        "## 3.4 Qual classe financeira é predominante no dataset?"
      ]
    },
    {
      "cell_type": "code",
      "execution_count": null,
      "id": "98717782",
      "metadata": {
        "colab": {
          "base_uri": "https://localhost:8080/",
          "height": 407
        },
        "id": "98717782",
        "outputId": "27e7fcf6-7460-4c3a-fa49-2bfbe1e0ebff"
      },
      "outputs": [
        {
          "output_type": "display_data",
          "data": {
            "text/plain": [
              "<Figure size 864x432 with 1 Axes>"
            ],
            "image/png": "[encoded data removed]"
          },
          "metadata": {
            "needs_background": "light"
          }
        }
      ],
      "source": [
        "plt.rcParams['figure.figsize'] = (12, 6)\n",
        "f = sns.countplot(x='Financial Condition', data=df)\n",
        "f.set_title('Ocorrências por classe financeira')\n",
        "f.set_xlabel('Classe financeira',fontsize=15,)\n",
        "f.set_ylabel('Quantidade',fontsize=15)\n",
        "plt.show()"
      ]
    },
    {
      "cell_type": "markdown",
      "id": "1ef94890",
      "metadata": {
        "id": "1ef94890"
      },
      "source": [
        "<strong> Classe média! </strong>"
      ]
    },
    {
      "cell_type": "markdown",
      "id": "53be3b63",
      "metadata": {
        "id": "53be3b63"
      },
      "source": [
        "### 3.4.1 Percentualmente, qual classe financeira possui mais representantes no nível de flexibilidade alto e baixo?"
      ]
    },
    {
      "cell_type": "code",
      "execution_count": null,
      "id": "8e490398",
      "metadata": {
        "colab": {
          "base_uri": "https://localhost:8080/",
          "height": 407
        },
        "id": "8e490398",
        "outputId": "d063c07b-b9fa-4fe4-db49-33de47c2bdda"
      },
      "outputs": [
        {
          "output_type": "display_data",
          "data": {
            "text/plain": [
              "<Figure size 864x432 with 1 Axes>"
            ],
            "image/png": "[encoded data removed]"
          },
          "metadata": {
            "needs_background": "light"
          }
        }
      ],
      "source": [
        "plt.rcParams['figure.figsize'] = (12, 6)\n",
        "f = sns.countplot(x='Flexibility Level', data=df, hue='Financial Condition', order=['Low','Moderate','High'])\n",
        "f.set_title('Nível de flexibilidade VS Classe financeira')\n",
        "f.set_xlabel('Nível de flexibilidade',fontsize=15)\n",
        "f.set_ylabel('Quantidade',fontsize=15)\n",
        "for i in range(len(f.patches)):\n",
        "  if(i <= 2):\n",
        "    total = len(df[df['Financial Condition'] == 'Mid'])\n",
        "    height = f.patches[i].get_height()\n",
        "    f.text(f.patches[i].get_x()+f.patches[i].get_width()/2.,\n",
        "    height + 3,\n",
        "    \"{:1.2f}%\".format((height/total)*100),\n",
        "    ha=\"center\")\n",
        "  elif (i > 2 and i <= 5):\n",
        "    total = len(df[df['Financial Condition'] == 'Poor'])\n",
        "    height = f.patches[i].get_height()\n",
        "    f.text(f.patches[i].get_x()+f.patches[i].get_width()/2.,\n",
        "    height + 3,\n",
        "    \"{:1.2f}%\".format((height/total)*100),\n",
        "    ha=\"center\")\n",
        "  else:\n",
        "    total = len(df[df['Financial Condition'] == 'Rich'])\n",
        "    height = f.patches[i].get_height()\n",
        "    f.text(f.patches[i].get_x()+f.patches[i].get_width()/2.,\n",
        "    height + 3,\n",
        "    \"{:1.2f}%\".format((height/total)*100),\n",
        "    ha=\"center\")"
      ]
    },
    {
      "cell_type": "markdown",
      "id": "a816bdb6",
      "metadata": {
        "id": "a816bdb6"
      },
      "source": [
        "* Baixo nível de flexibilidade: mais de 50% da classe mais pobre possui baixo nível de flexibilidade\n",
        "* Alto nível de flexibilidade: quase 50% da classe mais rica possui alto nível de flexibilidade"
      ]
    },
    {
      "cell_type": "markdown",
      "id": "051b07cb",
      "metadata": {
        "id": "051b07cb"
      },
      "source": [
        "## 3.5 Qual é a distribuição de gênero?"
      ]
    },
    {
      "cell_type": "code",
      "execution_count": null,
      "id": "af9886f4",
      "metadata": {
        "colab": {
          "base_uri": "https://localhost:8080/",
          "height": 407
        },
        "id": "af9886f4",
        "outputId": "6adb4c83-355a-49e2-c450-b5e5ef927ac7"
      },
      "outputs": [
        {
          "output_type": "display_data",
          "data": {
            "text/plain": [
              "<Figure size 864x432 with 1 Axes>"
            ],
            "image/png": "[encoded data removed]"
          },
          "metadata": {
            "needs_background": "light"
          }
        }
      ],
      "source": [
        "plt.rcParams['figure.figsize'] = (12, 6)\n",
        "f = sns.countplot(df['Gender'])\n",
        "f.set_title('Ocorrências por gênero')\n",
        "f.set_xlabel('Gênero',fontsize=15)\n",
        "f.set_ylabel('Quantidade',fontsize=15)\n",
        "plt.show()"
      ]
    },
    {
      "cell_type": "markdown",
      "id": "73ff652a",
      "metadata": {
        "id": "73ff652a"
      },
      "source": [
        "<strong> Cerca de 55.02 % de homens e 44.98% de mulheres </strong>"
      ]
    },
    {
      "cell_type": "markdown",
      "id": "5e84a6d2",
      "metadata": {
        "id": "5e84a6d2"
      },
      "source": [
        "## 3.6 Qual o tipo de dispositivo mais utilizado pelos estudantes?"
      ]
    },
    {
      "cell_type": "code",
      "execution_count": null,
      "id": "e3f13ce0",
      "metadata": {
        "colab": {
          "base_uri": "https://localhost:8080/",
          "height": 407
        },
        "id": "e3f13ce0",
        "outputId": "2b9d4c4e-883b-4085-df17-def81cea809e"
      },
      "outputs": [
        {
          "output_type": "display_data",
          "data": {
            "text/plain": [
              "<Figure size 864x432 with 1 Axes>"
            ],
            "image/png": "[encoded data removed]"
          },
          "metadata": {
            "needs_background": "light"
          }
        }
      ],
      "source": [
        "plt.rcParams['figure.figsize'] = (12, 6)\n",
        "f = sns.countplot(df['Device'])\n",
        "f.set_title('Ocorrências por tipo de dispositivo')\n",
        "f.set_xlabel('Dispositivo',fontsize=15)\n",
        "f.set_ylabel('Quantidade',fontsize=15)\n",
        "plt.show()"
      ]
    },
    {
      "cell_type": "markdown",
      "id": "b98463b6",
      "metadata": {
        "id": "b98463b6"
      },
      "source": [
        "<strong> Cerca de 84% dos estudantes utilizam dispositivos mobile! </strong>"
      ]
    },
    {
      "cell_type": "markdown",
      "id": "74b8375a",
      "metadata": {
        "id": "74b8375a"
      },
      "source": [
        "## 3.7 Em qual localidade os estudantes estão mais concentrados?"
      ]
    },
    {
      "cell_type": "code",
      "execution_count": null,
      "id": "3e0fdfed",
      "metadata": {
        "colab": {
          "base_uri": "https://localhost:8080/",
          "height": 407
        },
        "id": "3e0fdfed",
        "outputId": "5e28d9f8-73b8-4f56-b9d2-fa624cf2e904"
      },
      "outputs": [
        {
          "output_type": "display_data",
          "data": {
            "text/plain": [
              "<Figure size 864x432 with 1 Axes>"
            ],
            "image/png": "[encoded data removed]"
          },
          "metadata": {
            "needs_background": "light"
          }
        }
      ],
      "source": [
        "plt.rcParams['figure.figsize'] = (12, 6)\n",
        "f = sns.countplot(df['Location'])\n",
        "f.set_title('Ocorrências por localidade')\n",
        "f.set_xlabel('Localidade',fontsize=15)\n",
        "f.set_ylabel('Quantidade',fontsize=15)\n",
        "plt.show()"
      ]
    },
    {
      "cell_type": "markdown",
      "id": "9b19cc91",
      "metadata": {
        "id": "9b19cc91"
      },
      "source": [
        "<strong> A maioria dos estudantes estuda na zona urbana! </strong>"
      ]
    },
    {
      "cell_type": "markdown",
      "source": [
        "### 3.7.1 Percentualmente, qual localidade possui mais representantes no nível de flexibilidade alto e baixo?"
      ],
      "metadata": {
        "id": "3vy-C19MWor0"
      },
      "id": "3vy-C19MWor0"
    },
    {
      "cell_type": "code",
      "source": [
        "plt.rcParams['figure.figsize'] = (12, 6)\n",
        "f = sns.countplot(x='Flexibility Level', data=df, hue='Location', order=['Low','Moderate','High'])\n",
        "f.set_title('Nível de flexibilidade VS Localidade')\n",
        "f.set_xlabel('Nível de flexibilidade',fontsize=15)\n",
        "f.set_ylabel('Quantidade',fontsize=15)\n",
        "for i in range(len(f.patches)):\n",
        "  if(i <= 2):\n",
        "    total = len(df[df['Location'] == 'Town'])\n",
        "    height = f.patches[i].get_height()\n",
        "    f.text(f.patches[i].get_x()+f.patches[i].get_width()/2.,\n",
        "    height + 3,\n",
        "    \"{:1.2f}%\".format((height/total)*100),\n",
        "    ha=\"center\")\n",
        "  elif (i > 2 and i <= 5):\n",
        "    total = len(df[df['Location'] == 'Rural'])\n",
        "    height = f.patches[i].get_height()\n",
        "    f.text(f.patches[i].get_x()+f.patches[i].get_width()/2.,\n",
        "    height + 3,\n",
        "    \"{:1.2f}%\".format((height/total)*100),\n",
        "    ha=\"center\")"
      ],
      "metadata": {
        "colab": {
          "base_uri": "https://localhost:8080/",
          "height": 407
        },
        "id": "eEwxvogLWB85",
        "outputId": "fd800cea-fc04-4040-f2da-7467970d5744"
      },
      "id": "eEwxvogLWB85",
      "execution_count": null,
      "outputs": [
        {
          "output_type": "display_data",
          "data": {
            "text/plain": [
              "<Figure size 864x432 with 1 Axes>"
            ],
            "image/png": "[encoded data removed]"
          },
          "metadata": {
            "needs_background": "light"
          }
        }
      ]
    },
    {
      "cell_type": "markdown",
      "source": [
        "* Baixo nível de flexibilidade: cerca de 63% dos estudantes que estudam na zona rural possuem um baixo nível de flexibilidade;\n",
        "* Alto nível de flexibilidade: cerca de 10% dos estudantes que estudam na zona urbana possuem alto nível de flexibilidade\n",
        "\n",
        "<strong> Resumo:</strong> apesar de não ser determinante para caracterizar o nível de flexibilidade alto, vide que apenas 10% dos estudantes que moram na cidade estão nesta classe, não morar na zona urbana é determinante para caracterizar o nível de flexibilidade baixo, visto que mais da metade dos estudantes da zona rual estão nesta classe."
      ],
      "metadata": {
        "id": "1vmjDEBcW7mV"
      },
      "id": "1vmjDEBcW7mV"
    },
    {
      "cell_type": "markdown",
      "id": "d160ba96",
      "metadata": {
        "id": "d160ba96"
      },
      "source": [
        "## 3.8 Qual tipo de internet os estudantes mais usam?"
      ]
    },
    {
      "cell_type": "code",
      "execution_count": null,
      "id": "0355021d",
      "metadata": {
        "colab": {
          "base_uri": "https://localhost:8080/",
          "height": 407
        },
        "id": "0355021d",
        "outputId": "c0d6acdd-d150-4e76-b4e8-465586f0c23c"
      },
      "outputs": [
        {
          "output_type": "display_data",
          "data": {
            "text/plain": [
              "<Figure size 864x432 with 1 Axes>"
            ],
            "image/png": "[encoded data removed]"
          },
          "metadata": {
            "needs_background": "light"
          }
        }
      ],
      "source": [
        "plt.rcParams['figure.figsize'] = (12, 6)\n",
        "f = sns.countplot(df['Internet Type'])\n",
        "f.set_title('Ocorrências tipo de internet')\n",
        "f.set_xlabel('Tipo de internet',fontsize=15)\n",
        "f.set_ylabel('Quantidade',fontsize=15)\n",
        "plt.show()"
      ]
    },
    {
      "cell_type": "markdown",
      "id": "a736c82b",
      "metadata": {
        "id": "a736c82b"
      },
      "source": [
        "<strong> A maioria dos estudantes utilizam dados móveis! </strong>"
      ]
    },
    {
      "cell_type": "markdown",
      "id": "d23b03b2",
      "metadata": {
        "id": "d23b03b2"
      },
      "source": [
        "## 3.9 Qual o tipo de rede predominante?"
      ]
    },
    {
      "cell_type": "code",
      "execution_count": null,
      "id": "62d36e47",
      "metadata": {
        "colab": {
          "base_uri": "https://localhost:8080/",
          "height": 407
        },
        "id": "62d36e47",
        "outputId": "6c6f81be-1496-4f71-d7b7-b8298b897f9c"
      },
      "outputs": [
        {
          "output_type": "display_data",
          "data": {
            "text/plain": [
              "<Figure size 864x432 with 1 Axes>"
            ],
            "image/png": "[encoded data removed]"
          },
          "metadata": {
            "needs_background": "light"
          }
        }
      ],
      "source": [
        "plt.rcParams['figure.figsize'] = (12, 6)\n",
        "f = sns.countplot(df['Network Type'])\n",
        "f.set_title('Ocorrências por tipo de rede')\n",
        "f.set_xlabel('Tipo de rede',fontsize=15)\n",
        "f.set_ylabel('Quantidade',fontsize=15)\n",
        "plt.show()"
      ]
    },
    {
      "cell_type": "markdown",
      "id": "ae21d93e",
      "metadata": {
        "id": "ae21d93e"
      },
      "source": [
        "<strong> A maioria dos estudantes utilizam rede 4G! </strong>"
      ]
    },
    {
      "cell_type": "markdown",
      "id": "a2685cdf",
      "metadata": {
        "id": "a2685cdf"
      },
      "source": [
        "### 3.9.2 O tipo de rede influencia o nível de flexibilidade?"
      ]
    },
    {
      "cell_type": "code",
      "source": [
        "plt.rcParams['figure.figsize'] = (12, 6)\n",
        "f = sns.countplot(x='Flexibility Level', data=df, hue='Network Type', order=['Low','Moderate','High'])\n",
        "f.set_title('Nível de flexibilidade VS Tipo de rede')\n",
        "f.set_xlabel('Nível de flexibilidade',fontsize=15)\n",
        "f.set_ylabel('Quantidade',fontsize=15)\n",
        "for i in range(len(f.patches)):\n",
        "  if(i <= 2):\n",
        "    total = len(df[df['Network Type'] == '4G'])\n",
        "    height = f.patches[i].get_height()\n",
        "    f.text(f.patches[i].get_x()+f.patches[i].get_width()/2.,\n",
        "    height + 3,\n",
        "    \"{:1.2f}%\".format((height/total)*100),\n",
        "    ha=\"center\")\n",
        "  elif (i > 2 and i <= 5):\n",
        "    total = len(df[df['Network Type'] == '3G'])\n",
        "    height = f.patches[i].get_height()\n",
        "    f.text(f.patches[i].get_x()+f.patches[i].get_width()/2.,\n",
        "    height + 3,\n",
        "    \"{:1.2f}%\".format((height/total)*100),\n",
        "    ha=\"center\")\n",
        "  else:\n",
        "    total = len(df[df['Network Type'] == '2G'])\n",
        "    height = f.patches[i].get_height()\n",
        "    f.text(f.patches[i].get_x()+f.patches[i].get_width()/2.,\n",
        "    height + 3,\n",
        "    \"{:1.2f}%\".format((height/total)*100),\n",
        "    ha=\"center\")"
      ],
      "metadata": {
        "colab": {
          "base_uri": "https://localhost:8080/",
          "height": 459
        },
        "id": "qtwOPMJ7YnII",
        "outputId": "f9e87830-d244-4aa4-f42e-b55d1b6f0cbc"
      },
      "id": "qtwOPMJ7YnII",
      "execution_count": null,
      "outputs": [
        {
          "output_type": "stream",
          "name": "stderr",
          "text": [
            "posx and posy should be finite values\n",
            "posx and posy should be finite values\n",
            "posx and posy should be finite values\n"
          ]
        },
        {
          "output_type": "display_data",
          "data": {
            "text/plain": [
              "<Figure size 864x432 with 1 Axes>"
            ],
            "image/png": "[encoded data removed]"
          },
          "metadata": {
            "needs_background": "light"
          }
        }
      ]
    },
    {
      "cell_type": "markdown",
      "source": [
        "* Sim, visto que, apesar de haverem poucos dados de estudantes com tipo de rede 2G, é possível inferir uma certa correlação do tipo de rede com o nível de flexibilidade, dado que quase 85% dos estudantes que usam 2G possuem baixo nível de flexibilidade;\n",
        "* Além disso, quase metade dos estudantes que usam 3G possuem baixo nível de flexibilidade."
      ],
      "metadata": {
        "id": "SIUuVogDZSbQ"
      },
      "id": "SIUuVogDZSbQ"
    },
    {
      "cell_type": "markdown",
      "id": "bd7a582d",
      "metadata": {
        "id": "bd7a582d"
      },
      "source": [
        "## 3.10 Explorando a idade dos estudantes (única variável quantitativa)"
      ]
    },
    {
      "cell_type": "code",
      "execution_count": null,
      "id": "6d5bb036",
      "metadata": {
        "colab": {
          "base_uri": "https://localhost:8080/",
          "height": 300
        },
        "id": "6d5bb036",
        "outputId": "14138435-6d35-47e4-cf3b-e688c9ed7970"
      },
      "outputs": [
        {
          "output_type": "execute_result",
          "data": {
            "text/plain": [
              "               Age\n",
              "count  1205.000000\n",
              "mean     17.065560\n",
              "std       5.830369\n",
              "min       9.000000\n",
              "25%      11.000000\n",
              "50%      18.000000\n",
              "75%      23.000000\n",
              "max      27.000000"
            ],
            "text/html": [
              "\n",
              "  <div id=\"df-4df34d92-2b20-4d17-8778-97b7b881859e\">\n",
              "    <div class=\"colab-df-container\">\n",
              "      <div>\n",
              "<style scoped>\n",
              "    .dataframe tbody tr th:only-of-type {\n",
              "        vertical-align: middle;\n",
              "    }\n",
              "\n",
              "    .dataframe tbody tr th {\n",
              "        vertical-align: top;\n",
              "    }\n",
              "\n",
              "    .dataframe thead th {\n",
              "        text-align: right;\n",
              "    }\n",
              "</style>\n",
              "<table border=\"1\" class=\"dataframe\">\n",
              "  <thead>\n",
              "    <tr style=\"text-align: right;\">\n",
              "      <th></th>\n",
              "      <th>Age</th>\n",
              "    </tr>\n",
              "  </thead>\n",
              "  <tbody>\n",
              "    <tr>\n",
              "      <th>count</th>\n",
              "      <td>1205.000000</td>\n",
              "    </tr>\n",
              "    <tr>\n",
              "      <th>mean</th>\n",
              "      <td>17.065560</td>\n",
              "    </tr>\n",
              "    <tr>\n",
              "      <th>std</th>\n",
              "      <td>5.830369</td>\n",
              "    </tr>\n",
              "    <tr>\n",
              "      <th>min</th>\n",
              "      <td>9.000000</td>\n",
              "    </tr>\n",
              "    <tr>\n",
              "      <th>25%</th>\n",
              "      <td>11.000000</td>\n",
              "    </tr>\n",
              "    <tr>\n",
              "      <th>50%</th>\n",
              "      <td>18.000000</td>\n",
              "    </tr>\n",
              "    <tr>\n",
              "      <th>75%</th>\n",
              "      <td>23.000000</td>\n",
              "    </tr>\n",
              "    <tr>\n",
              "      <th>max</th>\n",
              "      <td>27.000000</td>\n",
              "    </tr>\n",
              "  </tbody>\n",
              "</table>\n",
              "</div>\n",
              "      <button class=\"colab-df-convert\" onclick=\"convertToInteractive('df-4df34d92-2b20-4d17-8778-97b7b881859e')\"\n",
              "              title=\"Convert this dataframe to an interactive table.\"\n",
              "              style=\"display:none;\">\n",
              "        \n",
              "  <svg xmlns=\"http://www.w3.org/2000/svg\" height=\"24px\"viewBox=\"0 0 24 24\"\n",
              "       width=\"24px\">\n",
              "    <path d=\"M0 0h24v24H0V0z\" fill=\"none\"/>\n",
              "    <path d=\"M18.56 5.44l.94 2.06.94-2.06 2.06-.94-2.06-.94-.94-2.06-.94 2.06-2.06.94zm-11 1L8.5 8.5l.94-2.06 2.06-.94-2.06-.94L8.5 2.5l-.94 2.06-2.06.94zm10 10l.94 2.06.94-2.06 2.06-.94-2.06-.94-.94-2.06-.94 2.06-2.06.94z\"/><path d=\"M17.41 7.96l-1.37-1.37c-.4-.4-.92-.59-1.43-.59-.52 0-1.04.2-1.43.59L10.3 9.45l-7.72 7.72c-.78.78-.78 2.05 0 2.83L4 21.41c.39.39.9.59 1.41.59.51 0 1.02-.2 1.41-.59l7.78-7.78 2.81-2.81c.8-.78.8-2.07 0-2.86zM5.41 20L4 18.59l7.72-7.72 1.47 1.35L5.41 20z\"/>\n",
              "  </svg>\n",
              "      </button>\n",
              "      \n",
              "  <style>\n",
              "    .colab-df-container {\n",
              "      display:flex;\n",
              "      flex-wrap:wrap;\n",
              "      gap: 12px;\n",
              "    }\n",
              "\n",
              "    .colab-df-convert {\n",
              "      background-color: #E8F0FE;\n",
              "      border: none;\n",
              "      border-radius: 50%;\n",
              "      cursor: pointer;\n",
              "      display: none;\n",
              "      fill: #1967D2;\n",
              "      height: 32px;\n",
              "      padding: 0 0 0 0;\n",
              "      width: 32px;\n",
              "    }\n",
              "\n",
              "    .colab-df-convert:hover {\n",
              "      background-color: #E2EBFA;\n",
              "      box-shadow: 0px 1px 2px rgba(60, 64, 67, 0.3), 0px 1px 3px 1px rgba(60, 64, 67, 0.15);\n",
              "      fill: #174EA6;\n",
              "    }\n",
              "\n",
              "    [theme=dark] .colab-df-convert {\n",
              "      background-color: #3B4455;\n",
              "      fill: #D2E3FC;\n",
              "    }\n",
              "\n",
              "    [theme=dark] .colab-df-convert:hover {\n",
              "      background-color: #434B5C;\n",
              "      box-shadow: 0px 1px 3px 1px rgba(0, 0, 0, 0.15);\n",
              "      filter: drop-shadow(0px 1px 2px rgba(0, 0, 0, 0.3));\n",
              "      fill: #FFFFFF;\n",
              "    }\n",
              "  </style>\n",
              "\n",
              "      <script>\n",
              "        const buttonEl =\n",
              "          document.querySelector('#df-4df34d92-2b20-4d17-8778-97b7b881859e button.colab-df-convert');\n",
              "        buttonEl.style.display =\n",
              "          google.colab.kernel.accessAllowed ? 'block' : 'none';\n",
              "\n",
              "        async function convertToInteractive(key) {\n",
              "          const element = document.querySelector('#df-4df34d92-2b20-4d17-8778-97b7b881859e');\n",
              "          const dataTable =\n",
              "            await google.colab.kernel.invokeFunction('convertToInteractive',\n",
              "                                                     [key], {});\n",
              "          if (!dataTable) return;\n",
              "\n",
              "          const docLinkHtml = 'Like what you see? Visit the ' +\n",
              "            '<a target=\"_blank\" href=https://colab.research.google.com/notebooks/data_table.ipynb>data table notebook</a>'\n",
              "            + ' to learn more about interactive tables.';\n",
              "          element.innerHTML = '';\n",
              "          dataTable['output_type'] = 'display_data';\n",
              "          await google.colab.output.renderOutput(dataTable, element);\n",
              "          const docLink = document.createElement('div');\n",
              "          docLink.innerHTML = docLinkHtml;\n",
              "          element.appendChild(docLink);\n",
              "        }\n",
              "      </script>\n",
              "    </div>\n",
              "  </div>\n",
              "  "
            ]
          },
          "metadata": {},
          "execution_count": 188
        }
      ],
      "source": [
        "df.describe()"
      ]
    },
    {
      "cell_type": "markdown",
      "id": "1b7efbb5",
      "metadata": {
        "id": "1b7efbb5"
      },
      "source": [
        "### 3.10.1 Qual nível de flexibilidade possui a maior mediana?"
      ]
    },
    {
      "cell_type": "code",
      "execution_count": null,
      "id": "fddc448a",
      "metadata": {
        "colab": {
          "base_uri": "https://localhost:8080/",
          "height": 407
        },
        "id": "fddc448a",
        "outputId": "51825022-0838-4bc4-f8fc-7d06a5508f88"
      },
      "outputs": [
        {
          "output_type": "display_data",
          "data": {
            "text/plain": [
              "<Figure size 864x432 with 1 Axes>"
            ],
            "image/png": "[encoded data removed]"
          },
          "metadata": {
            "needs_background": "light"
          }
        }
      ],
      "source": [
        "f = sns.boxplot(x='Flexibility Level',y='Age',data=df,palette='rainbow', order=['Low','Moderate','High'])\n",
        "f.set_title('Boxplot da idade')\n",
        "f.set_xlabel('Nível de flexibilidade',fontsize=15)\n",
        "f.set_ylabel('Idade',fontsize=15)\n",
        "plt.show()"
      ]
    },
    {
      "cell_type": "markdown",
      "source": [
        "<strong> Resumo: </strong> Estudantes com maior nível de flexibilidade possuem uma mediana de idade maior que os demais"
      ],
      "metadata": {
        "id": "dm9Zbdc-aSWV"
      },
      "id": "dm9Zbdc-aSWV"
    },
    {
      "cell_type": "markdown",
      "id": "4e469eb1",
      "metadata": {
        "id": "4e469eb1"
      },
      "source": [
        "# 4.Teste de hipótese "
      ]
    },
    {
      "cell_type": "code",
      "execution_count": null,
      "id": "a105ab9e",
      "metadata": {
        "id": "a105ab9e"
      },
      "outputs": [],
      "source": [
        "# Definindo o nível de significância (5%)\n",
        "alpha = 0.05"
      ]
    },
    {
      "cell_type": "markdown",
      "id": "3239a62c",
      "metadata": {
        "id": "3239a62c"
      },
      "source": [
        "### 4.1 Teste de Shapiro (Normalidade dos dados)"
      ]
    },
    {
      "cell_type": "markdown",
      "id": "865babc5",
      "metadata": {
        "id": "865babc5"
      },
      "source": [
        "Disponível em <https://docs.scipy.org/doc/scipy/reference/generated/scipy.stats.shapiro.html>"
      ]
    },
    {
      "cell_type": "markdown",
      "id": "2abca390",
      "metadata": {
        "id": "2abca390"
      },
      "source": [
        "* H0: Os dados seguem uma distribuição gaussiana\n",
        "* H1: Os dados não seguem uma distribuição gaussiana"
      ]
    },
    {
      "cell_type": "code",
      "execution_count": null,
      "id": "56724977",
      "metadata": {
        "id": "56724977"
      },
      "outputs": [],
      "source": [
        "# Hipóteses\n",
        "h_0 = 'Os dados seguem uma distribuição gaussiana'\n",
        "h_1 = 'Os dados não seguem uma distribuição gaussiana'"
      ]
    },
    {
      "cell_type": "code",
      "execution_count": null,
      "id": "a3d9a8ce",
      "metadata": {
        "colab": {
          "base_uri": "https://localhost:8080/"
        },
        "id": "a3d9a8ce",
        "outputId": "4d441697-9160-45d2-be7d-bd975790fb1c"
      },
      "outputs": [
        {
          "output_type": "stream",
          "name": "stdout",
          "text": [
            "stat=0.824, p=0.000\n",
            "Os dados não seguem uma distribuição gaussiana\n"
          ]
        }
      ],
      "source": [
        "# Teste para uma amostra de tamanho 100 com reposição\n",
        "data = df['Age'].sample(100, replace=True)\n",
        "stat, p = shapiro(data)\n",
        "print('stat=%.3f, p=%.3f' % (stat, p))\n",
        "if p > alpha:\n",
        "\tprint(h_0)\n",
        "else:\n",
        "\tprint(h_1)"
      ]
    },
    {
      "cell_type": "code",
      "execution_count": null,
      "id": "9a978ca1",
      "metadata": {
        "colab": {
          "base_uri": "https://localhost:8080/",
          "height": 405
        },
        "id": "9a978ca1",
        "outputId": "f14a575d-e09d-46dc-d18c-56c311b690f5"
      },
      "outputs": [
        {
          "output_type": "execute_result",
          "data": {
            "text/plain": [
              "<matplotlib.axes._subplots.AxesSubplot at 0x7fafb8687150>"
            ]
          },
          "metadata": {},
          "execution_count": 193
        },
        {
          "output_type": "display_data",
          "data": {
            "text/plain": [
              "<Figure size 864x432 with 1 Axes>"
            ],
            "image/png": "[encoded data removed]"
          },
          "metadata": {
            "needs_background": "light"
          }
        }
      ],
      "source": [
        "sns.distplot(df['Age'])"
      ]
    },
    {
      "cell_type": "markdown",
      "id": "6dd63db2",
      "metadata": {
        "id": "6dd63db2"
      },
      "source": [
        "<strong> Não é possível utilizar testes de hipótese paramétricos para esta população diretamente, visto os dados não seguirem uma distribuição normal. </strong>"
      ]
    },
    {
      "cell_type": "markdown",
      "id": "f6d17f65",
      "metadata": {
        "id": "f6d17f65"
      },
      "source": [
        "### 4.2 Teste não-paramétrico - Teste U de Mann-Whitney"
      ]
    },
    {
      "cell_type": "markdown",
      "id": "5cb4018f",
      "metadata": {
        "id": "5cb4018f"
      },
      "source": [
        "Disponível em <https://docs.scipy.org/doc/scipy/reference/generated/scipy.stats.mannwhitneyu.html>"
      ]
    },
    {
      "cell_type": "code",
      "execution_count": null,
      "id": "0e6fdbd4",
      "metadata": {
        "id": "0e6fdbd4"
      },
      "outputs": [],
      "source": [
        "# Amostragem aleatória\n",
        "x = df['Age'].sample(100, random_state=1, replace=True).to_list()\n",
        "y = df['Age'].sample(100, random_state=2, replace=True).to_list()"
      ]
    },
    {
      "cell_type": "markdown",
      "id": "02efb1f6",
      "metadata": {
        "id": "02efb1f6"
      },
      "source": [
        "Vamos utilizar o teste U de Mann-Whitney para verificar se os dados são oriundos de populações com a mesma distribuição, tomando como base as seguintes hipóteses:\n",
        "\n",
        "* H0: Amostras retiradas de populações com a mesma distribuição\n",
        "* H1: Amostras retiradas de populações com a distribuições diferentes"
      ]
    },
    {
      "cell_type": "code",
      "execution_count": null,
      "id": "0a61b84b",
      "metadata": {
        "id": "0a61b84b"
      },
      "outputs": [],
      "source": [
        "# Hipóteses\n",
        "h_0 = 'Amostras retiradas de populações com a mesma distribuição'\n",
        "h_1 = 'Amostras retiradas de populações com distribuições diferentes'"
      ]
    },
    {
      "cell_type": "code",
      "execution_count": null,
      "id": "9b8915db",
      "metadata": {
        "colab": {
          "base_uri": "https://localhost:8080/"
        },
        "id": "9b8915db",
        "outputId": "cf615c9c-b9a8-4078-dad7-177d139f3bba"
      },
      "outputs": [
        {
          "output_type": "stream",
          "name": "stdout",
          "text": [
            "stat=4979.000, p=0.479\n",
            "Amostras retiradas de populações com a mesma distribuição\n"
          ]
        }
      ],
      "source": [
        "stat, p = mannwhitneyu(x,y)\n",
        "print('stat=%.3f, p=%.3f' % (stat, p))\n",
        "if p > alpha:\n",
        "    print(h_0)\n",
        "else:\n",
        "    print(h_1)"
      ]
    },
    {
      "cell_type": "markdown",
      "id": "495cecc2",
      "metadata": {
        "id": "495cecc2"
      },
      "source": [
        "# 5.Criação de um modelo de classificação do nível de flexibilidade"
      ]
    },
    {
      "cell_type": "code",
      "source": [
        "df.head()"
      ],
      "metadata": {
        "colab": {
          "base_uri": "https://localhost:8080/",
          "height": 206
        },
        "id": "lS0wnXHILGi2",
        "outputId": "decb3e1f-daa4-4fd5-c6ee-f55ede1e1adc"
      },
      "id": "lS0wnXHILGi2",
      "execution_count": null,
      "outputs": [
        {
          "output_type": "execute_result",
          "data": {
            "text/plain": [
              "  Education Level Institution Type  Gender  Age  Device IT Student Location  \\\n",
              "0      University          Private    Male   23     Tab         No     Town   \n",
              "1      University          Private  Female   23  Mobile         No     Town   \n",
              "2         College           Public  Female   18  Mobile         No     Town   \n",
              "3          School          Private  Female   11  Mobile         No     Town   \n",
              "4          School          Private  Female   18  Mobile         No     Town   \n",
              "\n",
              "  Financial Condition Internet Type Network Type Flexibility Level  \n",
              "0                 Mid          Wifi           4G          Moderate  \n",
              "1                 Mid   Mobile Data           4G          Moderate  \n",
              "2                 Mid          Wifi           4G          Moderate  \n",
              "3                 Mid   Mobile Data           4G          Moderate  \n",
              "4                Poor   Mobile Data           3G               Low  "
            ],
            "text/html": [
              "\n",
              "  <div id=\"df-e63c7ca1-5516-41e2-815c-d7f35b461dc4\">\n",
              "    <div class=\"colab-df-container\">\n",
              "      <div>\n",
              "<style scoped>\n",
              "    .dataframe tbody tr th:only-of-type {\n",
              "        vertical-align: middle;\n",
              "    }\n",
              "\n",
              "    .dataframe tbody tr th {\n",
              "        vertical-align: top;\n",
              "    }\n",
              "\n",
              "    .dataframe thead th {\n",
              "        text-align: right;\n",
              "    }\n",
              "</style>\n",
              "<table border=\"1\" class=\"dataframe\">\n",
              "  <thead>\n",
              "    <tr style=\"text-align: right;\">\n",
              "      <th></th>\n",
              "      <th>Education Level</th>\n",
              "      <th>Institution Type</th>\n",
              "      <th>Gender</th>\n",
              "      <th>Age</th>\n",
              "      <th>Device</th>\n",
              "      <th>IT Student</th>\n",
              "      <th>Location</th>\n",
              "      <th>Financial Condition</th>\n",
              "      <th>Internet Type</th>\n",
              "      <th>Network Type</th>\n",
              "      <th>Flexibility Level</th>\n",
              "    </tr>\n",
              "  </thead>\n",
              "  <tbody>\n",
              "    <tr>\n",
              "      <th>0</th>\n",
              "      <td>University</td>\n",
              "      <td>Private</td>\n",
              "      <td>Male</td>\n",
              "      <td>23</td>\n",
              "      <td>Tab</td>\n",
              "      <td>No</td>\n",
              "      <td>Town</td>\n",
              "      <td>Mid</td>\n",
              "      <td>Wifi</td>\n",
              "      <td>4G</td>\n",
              "      <td>Moderate</td>\n",
              "    </tr>\n",
              "    <tr>\n",
              "      <th>1</th>\n",
              "      <td>University</td>\n",
              "      <td>Private</td>\n",
              "      <td>Female</td>\n",
              "      <td>23</td>\n",
              "      <td>Mobile</td>\n",
              "      <td>No</td>\n",
              "      <td>Town</td>\n",
              "      <td>Mid</td>\n",
              "      <td>Mobile Data</td>\n",
              "      <td>4G</td>\n",
              "      <td>Moderate</td>\n",
              "    </tr>\n",
              "    <tr>\n",
              "      <th>2</th>\n",
              "      <td>College</td>\n",
              "      <td>Public</td>\n",
              "      <td>Female</td>\n",
              "      <td>18</td>\n",
              "      <td>Mobile</td>\n",
              "      <td>No</td>\n",
              "      <td>Town</td>\n",
              "      <td>Mid</td>\n",
              "      <td>Wifi</td>\n",
              "      <td>4G</td>\n",
              "      <td>Moderate</td>\n",
              "    </tr>\n",
              "    <tr>\n",
              "      <th>3</th>\n",
              "      <td>School</td>\n",
              "      <td>Private</td>\n",
              "      <td>Female</td>\n",
              "      <td>11</td>\n",
              "      <td>Mobile</td>\n",
              "      <td>No</td>\n",
              "      <td>Town</td>\n",
              "      <td>Mid</td>\n",
              "      <td>Mobile Data</td>\n",
              "      <td>4G</td>\n",
              "      <td>Moderate</td>\n",
              "    </tr>\n",
              "    <tr>\n",
              "      <th>4</th>\n",
              "      <td>School</td>\n",
              "      <td>Private</td>\n",
              "      <td>Female</td>\n",
              "      <td>18</td>\n",
              "      <td>Mobile</td>\n",
              "      <td>No</td>\n",
              "      <td>Town</td>\n",
              "      <td>Poor</td>\n",
              "      <td>Mobile Data</td>\n",
              "      <td>3G</td>\n",
              "      <td>Low</td>\n",
              "    </tr>\n",
              "  </tbody>\n",
              "</table>\n",
              "</div>\n",
              "      <button class=\"colab-df-convert\" onclick=\"convertToInteractive('df-e63c7ca1-5516-41e2-815c-d7f35b461dc4')\"\n",
              "              title=\"Convert this dataframe to an interactive table.\"\n",
              "              style=\"display:none;\">\n",
              "        \n",
              "  <svg xmlns=\"http://www.w3.org/2000/svg\" height=\"24px\"viewBox=\"0 0 24 24\"\n",
              "       width=\"24px\">\n",
              "    <path d=\"M0 0h24v24H0V0z\" fill=\"none\"/>\n",
              "    <path d=\"M18.56 5.44l.94 2.06.94-2.06 2.06-.94-2.06-.94-.94-2.06-.94 2.06-2.06.94zm-11 1L8.5 8.5l.94-2.06 2.06-.94-2.06-.94L8.5 2.5l-.94 2.06-2.06.94zm10 10l.94 2.06.94-2.06 2.06-.94-2.06-.94-.94-2.06-.94 2.06-2.06.94z\"/><path d=\"M17.41 7.96l-1.37-1.37c-.4-.4-.92-.59-1.43-.59-.52 0-1.04.2-1.43.59L10.3 9.45l-7.72 7.72c-.78.78-.78 2.05 0 2.83L4 21.41c.39.39.9.59 1.41.59.51 0 1.02-.2 1.41-.59l7.78-7.78 2.81-2.81c.8-.78.8-2.07 0-2.86zM5.41 20L4 18.59l7.72-7.72 1.47 1.35L5.41 20z\"/>\n",
              "  </svg>\n",
              "      </button>\n",
              "      \n",
              "  <style>\n",
              "    .colab-df-container {\n",
              "      display:flex;\n",
              "      flex-wrap:wrap;\n",
              "      gap: 12px;\n",
              "    }\n",
              "\n",
              "    .colab-df-convert {\n",
              "      background-color: #E8F0FE;\n",
              "      border: none;\n",
              "      border-radius: 50%;\n",
              "      cursor: pointer;\n",
              "      display: none;\n",
              "      fill: #1967D2;\n",
              "      height: 32px;\n",
              "      padding: 0 0 0 0;\n",
              "      width: 32px;\n",
              "    }\n",
              "\n",
              "    .colab-df-convert:hover {\n",
              "      background-color: #E2EBFA;\n",
              "      box-shadow: 0px 1px 2px rgba(60, 64, 67, 0.3), 0px 1px 3px 1px rgba(60, 64, 67, 0.15);\n",
              "      fill: #174EA6;\n",
              "    }\n",
              "\n",
              "    [theme=dark] .colab-df-convert {\n",
              "      background-color: #3B4455;\n",
              "      fill: #D2E3FC;\n",
              "    }\n",
              "\n",
              "    [theme=dark] .colab-df-convert:hover {\n",
              "      background-color: #434B5C;\n",
              "      box-shadow: 0px 1px 3px 1px rgba(0, 0, 0, 0.15);\n",
              "      filter: drop-shadow(0px 1px 2px rgba(0, 0, 0, 0.3));\n",
              "      fill: #FFFFFF;\n",
              "    }\n",
              "  </style>\n",
              "\n",
              "      <script>\n",
              "        const buttonEl =\n",
              "          document.querySelector('#df-e63c7ca1-5516-41e2-815c-d7f35b461dc4 button.colab-df-convert');\n",
              "        buttonEl.style.display =\n",
              "          google.colab.kernel.accessAllowed ? 'block' : 'none';\n",
              "\n",
              "        async function convertToInteractive(key) {\n",
              "          const element = document.querySelector('#df-e63c7ca1-5516-41e2-815c-d7f35b461dc4');\n",
              "          const dataTable =\n",
              "            await google.colab.kernel.invokeFunction('convertToInteractive',\n",
              "                                                     [key], {});\n",
              "          if (!dataTable) return;\n",
              "\n",
              "          const docLinkHtml = 'Like what you see? Visit the ' +\n",
              "            '<a target=\"_blank\" href=https://colab.research.google.com/notebooks/data_table.ipynb>data table notebook</a>'\n",
              "            + ' to learn more about interactive tables.';\n",
              "          element.innerHTML = '';\n",
              "          dataTable['output_type'] = 'display_data';\n",
              "          await google.colab.output.renderOutput(dataTable, element);\n",
              "          const docLink = document.createElement('div');\n",
              "          docLink.innerHTML = docLinkHtml;\n",
              "          element.appendChild(docLink);\n",
              "        }\n",
              "      </script>\n",
              "    </div>\n",
              "  </div>\n",
              "  "
            ]
          },
          "metadata": {},
          "execution_count": 197
        }
      ]
    },
    {
      "cell_type": "markdown",
      "source": [
        "## 5.1 Conversão dos atributos categóricos"
      ],
      "metadata": {
        "id": "6IceBc8g_uhF"
      },
      "id": "6IceBc8g_uhF"
    },
    {
      "cell_type": "code",
      "source": [
        "df.head()"
      ],
      "metadata": {
        "colab": {
          "base_uri": "https://localhost:8080/",
          "height": 206
        },
        "id": "eZ_9orZ5BPHF",
        "outputId": "ea644ea0-ad71-40d4-d99a-3765c45d0729"
      },
      "id": "eZ_9orZ5BPHF",
      "execution_count": null,
      "outputs": [
        {
          "output_type": "execute_result",
          "data": {
            "text/plain": [
              "  Education Level Institution Type  Gender  Age  Device IT Student Location  \\\n",
              "0      University          Private    Male   23     Tab         No     Town   \n",
              "1      University          Private  Female   23  Mobile         No     Town   \n",
              "2         College           Public  Female   18  Mobile         No     Town   \n",
              "3          School          Private  Female   11  Mobile         No     Town   \n",
              "4          School          Private  Female   18  Mobile         No     Town   \n",
              "\n",
              "  Financial Condition Internet Type Network Type Flexibility Level  \n",
              "0                 Mid          Wifi           4G          Moderate  \n",
              "1                 Mid   Mobile Data           4G          Moderate  \n",
              "2                 Mid          Wifi           4G          Moderate  \n",
              "3                 Mid   Mobile Data           4G          Moderate  \n",
              "4                Poor   Mobile Data           3G               Low  "
            ],
            "text/html": [
              "\n",
              "  <div id=\"df-9ec079e0-d730-47fe-bb9c-b5095e60000b\">\n",
              "    <div class=\"colab-df-container\">\n",
              "      <div>\n",
              "<style scoped>\n",
              "    .dataframe tbody tr th:only-of-type {\n",
              "        vertical-align: middle;\n",
              "    }\n",
              "\n",
              "    .dataframe tbody tr th {\n",
              "        vertical-align: top;\n",
              "    }\n",
              "\n",
              "    .dataframe thead th {\n",
              "        text-align: right;\n",
              "    }\n",
              "</style>\n",
              "<table border=\"1\" class=\"dataframe\">\n",
              "  <thead>\n",
              "    <tr style=\"text-align: right;\">\n",
              "      <th></th>\n",
              "      <th>Education Level</th>\n",
              "      <th>Institution Type</th>\n",
              "      <th>Gender</th>\n",
              "      <th>Age</th>\n",
              "      <th>Device</th>\n",
              "      <th>IT Student</th>\n",
              "      <th>Location</th>\n",
              "      <th>Financial Condition</th>\n",
              "      <th>Internet Type</th>\n",
              "      <th>Network Type</th>\n",
              "      <th>Flexibility Level</th>\n",
              "    </tr>\n",
              "  </thead>\n",
              "  <tbody>\n",
              "    <tr>\n",
              "      <th>0</th>\n",
              "      <td>University</td>\n",
              "      <td>Private</td>\n",
              "      <td>Male</td>\n",
              "      <td>23</td>\n",
              "      <td>Tab</td>\n",
              "      <td>No</td>\n",
              "      <td>Town</td>\n",
              "      <td>Mid</td>\n",
              "      <td>Wifi</td>\n",
              "      <td>4G</td>\n",
              "      <td>Moderate</td>\n",
              "    </tr>\n",
              "    <tr>\n",
              "      <th>1</th>\n",
              "      <td>University</td>\n",
              "      <td>Private</td>\n",
              "      <td>Female</td>\n",
              "      <td>23</td>\n",
              "      <td>Mobile</td>\n",
              "      <td>No</td>\n",
              "      <td>Town</td>\n",
              "      <td>Mid</td>\n",
              "      <td>Mobile Data</td>\n",
              "      <td>4G</td>\n",
              "      <td>Moderate</td>\n",
              "    </tr>\n",
              "    <tr>\n",
              "      <th>2</th>\n",
              "      <td>College</td>\n",
              "      <td>Public</td>\n",
              "      <td>Female</td>\n",
              "      <td>18</td>\n",
              "      <td>Mobile</td>\n",
              "      <td>No</td>\n",
              "      <td>Town</td>\n",
              "      <td>Mid</td>\n",
              "      <td>Wifi</td>\n",
              "      <td>4G</td>\n",
              "      <td>Moderate</td>\n",
              "    </tr>\n",
              "    <tr>\n",
              "      <th>3</th>\n",
              "      <td>School</td>\n",
              "      <td>Private</td>\n",
              "      <td>Female</td>\n",
              "      <td>11</td>\n",
              "      <td>Mobile</td>\n",
              "      <td>No</td>\n",
              "      <td>Town</td>\n",
              "      <td>Mid</td>\n",
              "      <td>Mobile Data</td>\n",
              "      <td>4G</td>\n",
              "      <td>Moderate</td>\n",
              "    </tr>\n",
              "    <tr>\n",
              "      <th>4</th>\n",
              "      <td>School</td>\n",
              "      <td>Private</td>\n",
              "      <td>Female</td>\n",
              "      <td>18</td>\n",
              "      <td>Mobile</td>\n",
              "      <td>No</td>\n",
              "      <td>Town</td>\n",
              "      <td>Poor</td>\n",
              "      <td>Mobile Data</td>\n",
              "      <td>3G</td>\n",
              "      <td>Low</td>\n",
              "    </tr>\n",
              "  </tbody>\n",
              "</table>\n",
              "</div>\n",
              "      <button class=\"colab-df-convert\" onclick=\"convertToInteractive('df-9ec079e0-d730-47fe-bb9c-b5095e60000b')\"\n",
              "              title=\"Convert this dataframe to an interactive table.\"\n",
              "              style=\"display:none;\">\n",
              "        \n",
              "  <svg xmlns=\"http://www.w3.org/2000/svg\" height=\"24px\"viewBox=\"0 0 24 24\"\n",
              "       width=\"24px\">\n",
              "    <path d=\"M0 0h24v24H0V0z\" fill=\"none\"/>\n",
              "    <path d=\"M18.56 5.44l.94 2.06.94-2.06 2.06-.94-2.06-.94-.94-2.06-.94 2.06-2.06.94zm-11 1L8.5 8.5l.94-2.06 2.06-.94-2.06-.94L8.5 2.5l-.94 2.06-2.06.94zm10 10l.94 2.06.94-2.06 2.06-.94-2.06-.94-.94-2.06-.94 2.06-2.06.94z\"/><path d=\"M17.41 7.96l-1.37-1.37c-.4-.4-.92-.59-1.43-.59-.52 0-1.04.2-1.43.59L10.3 9.45l-7.72 7.72c-.78.78-.78 2.05 0 2.83L4 21.41c.39.39.9.59 1.41.59.51 0 1.02-.2 1.41-.59l7.78-7.78 2.81-2.81c.8-.78.8-2.07 0-2.86zM5.41 20L4 18.59l7.72-7.72 1.47 1.35L5.41 20z\"/>\n",
              "  </svg>\n",
              "      </button>\n",
              "      \n",
              "  <style>\n",
              "    .colab-df-container {\n",
              "      display:flex;\n",
              "      flex-wrap:wrap;\n",
              "      gap: 12px;\n",
              "    }\n",
              "\n",
              "    .colab-df-convert {\n",
              "      background-color: #E8F0FE;\n",
              "      border: none;\n",
              "      border-radius: 50%;\n",
              "      cursor: pointer;\n",
              "      display: none;\n",
              "      fill: #1967D2;\n",
              "      height: 32px;\n",
              "      padding: 0 0 0 0;\n",
              "      width: 32px;\n",
              "    }\n",
              "\n",
              "    .colab-df-convert:hover {\n",
              "      background-color: #E2EBFA;\n",
              "      box-shadow: 0px 1px 2px rgba(60, 64, 67, 0.3), 0px 1px 3px 1px rgba(60, 64, 67, 0.15);\n",
              "      fill: #174EA6;\n",
              "    }\n",
              "\n",
              "    [theme=dark] .colab-df-convert {\n",
              "      background-color: #3B4455;\n",
              "      fill: #D2E3FC;\n",
              "    }\n",
              "\n",
              "    [theme=dark] .colab-df-convert:hover {\n",
              "      background-color: #434B5C;\n",
              "      box-shadow: 0px 1px 3px 1px rgba(0, 0, 0, 0.15);\n",
              "      filter: drop-shadow(0px 1px 2px rgba(0, 0, 0, 0.3));\n",
              "      fill: #FFFFFF;\n",
              "    }\n",
              "  </style>\n",
              "\n",
              "      <script>\n",
              "        const buttonEl =\n",
              "          document.querySelector('#df-9ec079e0-d730-47fe-bb9c-b5095e60000b button.colab-df-convert');\n",
              "        buttonEl.style.display =\n",
              "          google.colab.kernel.accessAllowed ? 'block' : 'none';\n",
              "\n",
              "        async function convertToInteractive(key) {\n",
              "          const element = document.querySelector('#df-9ec079e0-d730-47fe-bb9c-b5095e60000b');\n",
              "          const dataTable =\n",
              "            await google.colab.kernel.invokeFunction('convertToInteractive',\n",
              "                                                     [key], {});\n",
              "          if (!dataTable) return;\n",
              "\n",
              "          const docLinkHtml = 'Like what you see? Visit the ' +\n",
              "            '<a target=\"_blank\" href=https://colab.research.google.com/notebooks/data_table.ipynb>data table notebook</a>'\n",
              "            + ' to learn more about interactive tables.';\n",
              "          element.innerHTML = '';\n",
              "          dataTable['output_type'] = 'display_data';\n",
              "          await google.colab.output.renderOutput(dataTable, element);\n",
              "          const docLink = document.createElement('div');\n",
              "          docLink.innerHTML = docLinkHtml;\n",
              "          element.appendChild(docLink);\n",
              "        }\n",
              "      </script>\n",
              "    </div>\n",
              "  </div>\n",
              "  "
            ]
          },
          "metadata": {},
          "execution_count": 198
        }
      ]
    },
    {
      "cell_type": "code",
      "source": [
        "def to_category(column, values):\n",
        "  onehotencoder = OneHotEncoder(categories=[values])\n",
        "  x = onehotencoder.fit_transform(df[[column]]).toarray()\n",
        "  new_df = pd.DataFrame(x, columns=df[column].unique())\n",
        "  return new_df"
      ],
      "metadata": {
        "id": "w23vGihZACY9"
      },
      "id": "w23vGihZACY9",
      "execution_count": null,
      "outputs": []
    },
    {
      "cell_type": "code",
      "source": [
        "category_education_level = to_category('Education Level', df['Education Level'].unique())\n",
        "df = pd.concat([category_education_level,df], axis=1)\n",
        "del df['Education Level']"
      ],
      "metadata": {
        "id": "uXNamvkE-lTh"
      },
      "id": "uXNamvkE-lTh",
      "execution_count": null,
      "outputs": []
    },
    {
      "cell_type": "code",
      "source": [
        "category_institution_type = to_category('Institution Type', df['Institution Type'].unique())\n",
        "df = pd.concat([category_institution_type,df], axis=1)\n",
        "del df['Institution Type']"
      ],
      "metadata": {
        "id": "exWAGwCV_iFV"
      },
      "id": "exWAGwCV_iFV",
      "execution_count": null,
      "outputs": []
    },
    {
      "cell_type": "code",
      "source": [
        "category_gender = to_category('Gender', df['Gender'].unique())\n",
        "df = pd.concat([category_gender,df], axis=1)\n",
        "del df['Gender']"
      ],
      "metadata": {
        "id": "fuWk_8BGBMC-"
      },
      "id": "fuWk_8BGBMC-",
      "execution_count": null,
      "outputs": []
    },
    {
      "cell_type": "code",
      "source": [
        "category_device = to_category('Device', df['Device'].unique())\n",
        "df = pd.concat([category_device,df], axis=1)\n",
        "del df['Device']"
      ],
      "metadata": {
        "id": "dvlxtTXHBzaF"
      },
      "id": "dvlxtTXHBzaF",
      "execution_count": null,
      "outputs": []
    },
    {
      "cell_type": "code",
      "source": [
        "category_it_student = to_category('IT Student', df['IT Student'].unique())\n",
        "df = pd.concat([category_it_student,df], axis=1)\n",
        "del df['IT Student']"
      ],
      "metadata": {
        "id": "3l8unP5oCFvd"
      },
      "id": "3l8unP5oCFvd",
      "execution_count": null,
      "outputs": []
    },
    {
      "cell_type": "code",
      "source": [
        "category_location = to_category('Location', df['Location'].unique())\n",
        "df = pd.concat([category_location,df], axis=1)\n",
        "del df['Location']"
      ],
      "metadata": {
        "id": "65nWE0n_Cuzc"
      },
      "id": "65nWE0n_Cuzc",
      "execution_count": null,
      "outputs": []
    },
    {
      "cell_type": "code",
      "source": [
        "category_financial_condition = to_category('Financial Condition', df['Financial Condition'].unique())\n",
        "df = pd.concat([category_financial_condition,df], axis=1)\n",
        "del df['Financial Condition']"
      ],
      "metadata": {
        "id": "STEU-NMICxtc"
      },
      "id": "STEU-NMICxtc",
      "execution_count": null,
      "outputs": []
    },
    {
      "cell_type": "code",
      "source": [
        "category_internet_type = to_category('Internet Type', df['Internet Type'].unique())\n",
        "df = pd.concat([category_internet_type,df], axis=1)\n",
        "del df['Internet Type']"
      ],
      "metadata": {
        "id": "QZrGrdlpDsny"
      },
      "id": "QZrGrdlpDsny",
      "execution_count": null,
      "outputs": []
    },
    {
      "cell_type": "code",
      "source": [
        "category_network_type = to_category('Network Type', df['Network Type'].unique())\n",
        "df = pd.concat([category_network_type,df], axis=1)\n",
        "del df['Network Type']"
      ],
      "metadata": {
        "id": "kRkdFZ5uD6Nu"
      },
      "id": "kRkdFZ5uD6Nu",
      "execution_count": null,
      "outputs": []
    },
    {
      "cell_type": "code",
      "source": [
        "df.head()"
      ],
      "metadata": {
        "colab": {
          "base_uri": "https://localhost:8080/",
          "height": 280
        },
        "id": "t4MrM3rgCDdN",
        "outputId": "23bf5695-aa1c-4755-984c-7a630fed716f"
      },
      "id": "t4MrM3rgCDdN",
      "execution_count": null,
      "outputs": [
        {
          "output_type": "execute_result",
          "data": {
            "text/plain": [
              "    4G   3G   2G  Wifi  Mobile Data  Mid  Poor  Rich  Town  Rural  ...  \\\n",
              "0  1.0  0.0  0.0   1.0          0.0  1.0   0.0   0.0   1.0    0.0  ...   \n",
              "1  1.0  0.0  0.0   0.0          1.0  1.0   0.0   0.0   1.0    0.0  ...   \n",
              "2  1.0  0.0  0.0   1.0          0.0  1.0   0.0   0.0   1.0    0.0  ...   \n",
              "3  1.0  0.0  0.0   0.0          1.0  1.0   0.0   0.0   1.0    0.0  ...   \n",
              "4  0.0  1.0  0.0   0.0          1.0  0.0   1.0   0.0   1.0    0.0  ...   \n",
              "\n",
              "   Computer  Male  Female  Private  Public  University  College  School  Age  \\\n",
              "0       0.0   1.0     0.0      1.0     0.0         1.0      0.0     0.0   23   \n",
              "1       0.0   0.0     1.0      1.0     0.0         1.0      0.0     0.0   23   \n",
              "2       0.0   0.0     1.0      0.0     1.0         0.0      1.0     0.0   18   \n",
              "3       0.0   0.0     1.0      1.0     0.0         0.0      0.0     1.0   11   \n",
              "4       0.0   0.0     1.0      1.0     0.0         0.0      0.0     1.0   18   \n",
              "\n",
              "   Flexibility Level  \n",
              "0           Moderate  \n",
              "1           Moderate  \n",
              "2           Moderate  \n",
              "3           Moderate  \n",
              "4                Low  \n",
              "\n",
              "[5 rows x 24 columns]"
            ],
            "text/html": [
              "\n",
              "  <div id=\"df-eaab621d-4421-435b-9701-6e8b517bff12\">\n",
              "    <div class=\"colab-df-container\">\n",
              "      <div>\n",
              "<style scoped>\n",
              "    .dataframe tbody tr th:only-of-type {\n",
              "        vertical-align: middle;\n",
              "    }\n",
              "\n",
              "    .dataframe tbody tr th {\n",
              "        vertical-align: top;\n",
              "    }\n",
              "\n",
              "    .dataframe thead th {\n",
              "        text-align: right;\n",
              "    }\n",
              "</style>\n",
              "<table border=\"1\" class=\"dataframe\">\n",
              "  <thead>\n",
              "    <tr style=\"text-align: right;\">\n",
              "      <th></th>\n",
              "      <th>4G</th>\n",
              "      <th>3G</th>\n",
              "      <th>2G</th>\n",
              "      <th>Wifi</th>\n",
              "      <th>Mobile Data</th>\n",
              "      <th>Mid</th>\n",
              "      <th>Poor</th>\n",
              "      <th>Rich</th>\n",
              "      <th>Town</th>\n",
              "      <th>Rural</th>\n",
              "      <th>...</th>\n",
              "      <th>Computer</th>\n",
              "      <th>Male</th>\n",
              "      <th>Female</th>\n",
              "      <th>Private</th>\n",
              "      <th>Public</th>\n",
              "      <th>University</th>\n",
              "      <th>College</th>\n",
              "      <th>School</th>\n",
              "      <th>Age</th>\n",
              "      <th>Flexibility Level</th>\n",
              "    </tr>\n",
              "  </thead>\n",
              "  <tbody>\n",
              "    <tr>\n",
              "      <th>0</th>\n",
              "      <td>1.0</td>\n",
              "      <td>0.0</td>\n",
              "      <td>0.0</td>\n",
              "      <td>1.0</td>\n",
              "      <td>0.0</td>\n",
              "      <td>1.0</td>\n",
              "      <td>0.0</td>\n",
              "      <td>0.0</td>\n",
              "      <td>1.0</td>\n",
              "      <td>0.0</td>\n",
              "      <td>...</td>\n",
              "      <td>0.0</td>\n",
              "      <td>1.0</td>\n",
              "      <td>0.0</td>\n",
              "      <td>1.0</td>\n",
              "      <td>0.0</td>\n",
              "      <td>1.0</td>\n",
              "      <td>0.0</td>\n",
              "      <td>0.0</td>\n",
              "      <td>23</td>\n",
              "      <td>Moderate</td>\n",
              "    </tr>\n",
              "    <tr>\n",
              "      <th>1</th>\n",
              "      <td>1.0</td>\n",
              "      <td>0.0</td>\n",
              "      <td>0.0</td>\n",
              "      <td>0.0</td>\n",
              "      <td>1.0</td>\n",
              "      <td>1.0</td>\n",
              "      <td>0.0</td>\n",
              "      <td>0.0</td>\n",
              "      <td>1.0</td>\n",
              "      <td>0.0</td>\n",
              "      <td>...</td>\n",
              "      <td>0.0</td>\n",
              "      <td>0.0</td>\n",
              "      <td>1.0</td>\n",
              "      <td>1.0</td>\n",
              "      <td>0.0</td>\n",
              "      <td>1.0</td>\n",
              "      <td>0.0</td>\n",
              "      <td>0.0</td>\n",
              "      <td>23</td>\n",
              "      <td>Moderate</td>\n",
              "    </tr>\n",
              "    <tr>\n",
              "      <th>2</th>\n",
              "      <td>1.0</td>\n",
              "      <td>0.0</td>\n",
              "      <td>0.0</td>\n",
              "      <td>1.0</td>\n",
              "      <td>0.0</td>\n",
              "      <td>1.0</td>\n",
              "      <td>0.0</td>\n",
              "      <td>0.0</td>\n",
              "      <td>1.0</td>\n",
              "      <td>0.0</td>\n",
              "      <td>...</td>\n",
              "      <td>0.0</td>\n",
              "      <td>0.0</td>\n",
              "      <td>1.0</td>\n",
              "      <td>0.0</td>\n",
              "      <td>1.0</td>\n",
              "      <td>0.0</td>\n",
              "      <td>1.0</td>\n",
              "      <td>0.0</td>\n",
              "      <td>18</td>\n",
              "      <td>Moderate</td>\n",
              "    </tr>\n",
              "    <tr>\n",
              "      <th>3</th>\n",
              "      <td>1.0</td>\n",
              "      <td>0.0</td>\n",
              "      <td>0.0</td>\n",
              "      <td>0.0</td>\n",
              "      <td>1.0</td>\n",
              "      <td>1.0</td>\n",
              "      <td>0.0</td>\n",
              "      <td>0.0</td>\n",
              "      <td>1.0</td>\n",
              "      <td>0.0</td>\n",
              "      <td>...</td>\n",
              "      <td>0.0</td>\n",
              "      <td>0.0</td>\n",
              "      <td>1.0</td>\n",
              "      <td>1.0</td>\n",
              "      <td>0.0</td>\n",
              "      <td>0.0</td>\n",
              "      <td>0.0</td>\n",
              "      <td>1.0</td>\n",
              "      <td>11</td>\n",
              "      <td>Moderate</td>\n",
              "    </tr>\n",
              "    <tr>\n",
              "      <th>4</th>\n",
              "      <td>0.0</td>\n",
              "      <td>1.0</td>\n",
              "      <td>0.0</td>\n",
              "      <td>0.0</td>\n",
              "      <td>1.0</td>\n",
              "      <td>0.0</td>\n",
              "      <td>1.0</td>\n",
              "      <td>0.0</td>\n",
              "      <td>1.0</td>\n",
              "      <td>0.0</td>\n",
              "      <td>...</td>\n",
              "      <td>0.0</td>\n",
              "      <td>0.0</td>\n",
              "      <td>1.0</td>\n",
              "      <td>1.0</td>\n",
              "      <td>0.0</td>\n",
              "      <td>0.0</td>\n",
              "      <td>0.0</td>\n",
              "      <td>1.0</td>\n",
              "      <td>18</td>\n",
              "      <td>Low</td>\n",
              "    </tr>\n",
              "  </tbody>\n",
              "</table>\n",
              "<p>5 rows × 24 columns</p>\n",
              "</div>\n",
              "      <button class=\"colab-df-convert\" onclick=\"convertToInteractive('df-eaab621d-4421-435b-9701-6e8b517bff12')\"\n",
              "              title=\"Convert this dataframe to an interactive table.\"\n",
              "              style=\"display:none;\">\n",
              "        \n",
              "  <svg xmlns=\"http://www.w3.org/2000/svg\" height=\"24px\"viewBox=\"0 0 24 24\"\n",
              "       width=\"24px\">\n",
              "    <path d=\"M0 0h24v24H0V0z\" fill=\"none\"/>\n",
              "    <path d=\"M18.56 5.44l.94 2.06.94-2.06 2.06-.94-2.06-.94-.94-2.06-.94 2.06-2.06.94zm-11 1L8.5 8.5l.94-2.06 2.06-.94-2.06-.94L8.5 2.5l-.94 2.06-2.06.94zm10 10l.94 2.06.94-2.06 2.06-.94-2.06-.94-.94-2.06-.94 2.06-2.06.94z\"/><path d=\"M17.41 7.96l-1.37-1.37c-.4-.4-.92-.59-1.43-.59-.52 0-1.04.2-1.43.59L10.3 9.45l-7.72 7.72c-.78.78-.78 2.05 0 2.83L4 21.41c.39.39.9.59 1.41.59.51 0 1.02-.2 1.41-.59l7.78-7.78 2.81-2.81c.8-.78.8-2.07 0-2.86zM5.41 20L4 18.59l7.72-7.72 1.47 1.35L5.41 20z\"/>\n",
              "  </svg>\n",
              "      </button>\n",
              "      \n",
              "  <style>\n",
              "    .colab-df-container {\n",
              "      display:flex;\n",
              "      flex-wrap:wrap;\n",
              "      gap: 12px;\n",
              "    }\n",
              "\n",
              "    .colab-df-convert {\n",
              "      background-color: #E8F0FE;\n",
              "      border: none;\n",
              "      border-radius: 50%;\n",
              "      cursor: pointer;\n",
              "      display: none;\n",
              "      fill: #1967D2;\n",
              "      height: 32px;\n",
              "      padding: 0 0 0 0;\n",
              "      width: 32px;\n",
              "    }\n",
              "\n",
              "    .colab-df-convert:hover {\n",
              "      background-color: #E2EBFA;\n",
              "      box-shadow: 0px 1px 2px rgba(60, 64, 67, 0.3), 0px 1px 3px 1px rgba(60, 64, 67, 0.15);\n",
              "      fill: #174EA6;\n",
              "    }\n",
              "\n",
              "    [theme=dark] .colab-df-convert {\n",
              "      background-color: #3B4455;\n",
              "      fill: #D2E3FC;\n",
              "    }\n",
              "\n",
              "    [theme=dark] .colab-df-convert:hover {\n",
              "      background-color: #434B5C;\n",
              "      box-shadow: 0px 1px 3px 1px rgba(0, 0, 0, 0.15);\n",
              "      filter: drop-shadow(0px 1px 2px rgba(0, 0, 0, 0.3));\n",
              "      fill: #FFFFFF;\n",
              "    }\n",
              "  </style>\n",
              "\n",
              "      <script>\n",
              "        const buttonEl =\n",
              "          document.querySelector('#df-eaab621d-4421-435b-9701-6e8b517bff12 button.colab-df-convert');\n",
              "        buttonEl.style.display =\n",
              "          google.colab.kernel.accessAllowed ? 'block' : 'none';\n",
              "\n",
              "        async function convertToInteractive(key) {\n",
              "          const element = document.querySelector('#df-eaab621d-4421-435b-9701-6e8b517bff12');\n",
              "          const dataTable =\n",
              "            await google.colab.kernel.invokeFunction('convertToInteractive',\n",
              "                                                     [key], {});\n",
              "          if (!dataTable) return;\n",
              "\n",
              "          const docLinkHtml = 'Like what you see? Visit the ' +\n",
              "            '<a target=\"_blank\" href=https://colab.research.google.com/notebooks/data_table.ipynb>data table notebook</a>'\n",
              "            + ' to learn more about interactive tables.';\n",
              "          element.innerHTML = '';\n",
              "          dataTable['output_type'] = 'display_data';\n",
              "          await google.colab.output.renderOutput(dataTable, element);\n",
              "          const docLink = document.createElement('div');\n",
              "          docLink.innerHTML = docLinkHtml;\n",
              "          element.appendChild(docLink);\n",
              "        }\n",
              "      </script>\n",
              "    </div>\n",
              "  </div>\n",
              "  "
            ]
          },
          "metadata": {},
          "execution_count": 209
        }
      ]
    },
    {
      "cell_type": "code",
      "source": [
        "df['Flexibility Level'] = df['Flexibility Level'].astype('category').cat.codes"
      ],
      "metadata": {
        "id": "-tegIt13H24-"
      },
      "id": "-tegIt13H24-",
      "execution_count": null,
      "outputs": []
    },
    {
      "cell_type": "markdown",
      "source": [],
      "metadata": {
        "id": "k9DXQ6qvs4J5"
      },
      "id": "k9DXQ6qvs4J5"
    },
    {
      "cell_type": "code",
      "source": [
        "df['Flexibility Level'].value_counts()"
      ],
      "metadata": {
        "colab": {
          "base_uri": "https://localhost:8080/"
        },
        "id": "y3dzN4aqIaCf",
        "outputId": "7afb2a75-ef3e-4cc6-a6db-20d17d8b13a0"
      },
      "id": "y3dzN4aqIaCf",
      "execution_count": null,
      "outputs": [
        {
          "output_type": "execute_result",
          "data": {
            "text/plain": [
              "2    625\n",
              "1    480\n",
              "0    100\n",
              "Name: Flexibility Level, dtype: int64"
            ]
          },
          "metadata": {},
          "execution_count": 211
        }
      ]
    },
    {
      "cell_type": "code",
      "source": [
        "df['Flexibility Level'].replace({0:3},inplace=True)"
      ],
      "metadata": {
        "id": "6WepPoH5JfIX"
      },
      "id": "6WepPoH5JfIX",
      "execution_count": null,
      "outputs": []
    },
    {
      "cell_type": "code",
      "source": [
        "df['Flexibility Level'].value_counts()"
      ],
      "metadata": {
        "colab": {
          "base_uri": "https://localhost:8080/"
        },
        "id": "KOCMlqAyJeVS",
        "outputId": "f521a4ef-0981-4599-835f-114343c10e88"
      },
      "id": "KOCMlqAyJeVS",
      "execution_count": null,
      "outputs": [
        {
          "output_type": "execute_result",
          "data": {
            "text/plain": [
              "2    625\n",
              "1    480\n",
              "3    100\n",
              "Name: Flexibility Level, dtype: int64"
            ]
          },
          "metadata": {},
          "execution_count": 213
        }
      ]
    },
    {
      "cell_type": "markdown",
      "source": [
        "## 5.2 Modelo"
      ],
      "metadata": {
        "id": "MR5MLg7qKFYh"
      },
      "id": "MR5MLg7qKFYh"
    },
    {
      "cell_type": "markdown",
      "source": [
        "### 5.2.1 Normalização dos atributos e separação entre conjunto de treino e teste"
      ],
      "metadata": {
        "id": "4rEu-FdbNi6E"
      },
      "id": "4rEu-FdbNi6E"
    },
    {
      "cell_type": "code",
      "source": [
        "target_name = 'Flexibility Level'\n",
        "X = df.drop(target_name, axis=1)\n",
        "y = df[target_name]"
      ],
      "metadata": {
        "id": "mro96hoTKIAH"
      },
      "id": "mro96hoTKIAH",
      "execution_count": null,
      "outputs": []
    },
    {
      "cell_type": "code",
      "source": [
        "scaler = MinMaxScaler()\n",
        "X = scaler.fit_transform(X)"
      ],
      "metadata": {
        "id": "76pCgnb1KTl3"
      },
      "id": "76pCgnb1KTl3",
      "execution_count": null,
      "outputs": []
    },
    {
      "cell_type": "code",
      "source": [
        "X"
      ],
      "metadata": {
        "colab": {
          "base_uri": "https://localhost:8080/"
        },
        "id": "UKlZD0vkKVJn",
        "outputId": "a8f711c0-2044-4e2f-bbae-cc7f826a58ed"
      },
      "id": "UKlZD0vkKVJn",
      "execution_count": null,
      "outputs": [
        {
          "output_type": "execute_result",
          "data": {
            "text/plain": [
              "array([[1.        , 0.        , 0.        , ..., 0.        , 0.        ,\n",
              "        0.77777778],\n",
              "       [1.        , 0.        , 0.        , ..., 0.        , 0.        ,\n",
              "        0.77777778],\n",
              "       [1.        , 0.        , 0.        , ..., 1.        , 0.        ,\n",
              "        0.5       ],\n",
              "       ...,\n",
              "       [0.        , 1.        , 0.        , ..., 0.        , 1.        ,\n",
              "        0.11111111],\n",
              "       [1.        , 0.        , 0.        , ..., 1.        , 0.        ,\n",
              "        0.5       ],\n",
              "       [0.        , 1.        , 0.        , ..., 0.        , 1.        ,\n",
              "        0.11111111]])"
            ]
          },
          "metadata": {},
          "execution_count": 216
        }
      ]
    },
    {
      "cell_type": "code",
      "source": [
        "X_train, X_test, y_train, y_test = train_test_split(\n",
        "        X\n",
        "       ,y\n",
        "       ,test_size = 0.2\n",
        "       ,random_state = 123\n",
        "       ,stratify = y\n",
        ")"
      ],
      "metadata": {
        "id": "kc6TFbthKaoP"
      },
      "id": "kc6TFbthKaoP",
      "execution_count": null,
      "outputs": []
    },
    {
      "cell_type": "markdown",
      "source": [
        "### 5.2.2 Regressão Logística"
      ],
      "metadata": {
        "id": "QV1SVddrNaKD"
      },
      "id": "QV1SVddrNaKD"
    },
    {
      "cell_type": "code",
      "source": [
        "logis = LogisticRegression()"
      ],
      "metadata": {
        "id": "-IqTsAEeLbPm"
      },
      "id": "-IqTsAEeLbPm",
      "execution_count": null,
      "outputs": []
    },
    {
      "cell_type": "code",
      "source": [
        "logis.fit(X_train, y_train)"
      ],
      "metadata": {
        "colab": {
          "base_uri": "https://localhost:8080/"
        },
        "id": "cBV63vDvLgdv",
        "outputId": "243cb97e-e5b2-4d5d-8228-7a98c91162a9"
      },
      "id": "cBV63vDvLgdv",
      "execution_count": null,
      "outputs": [
        {
          "output_type": "execute_result",
          "data": {
            "text/plain": [
              "LogisticRegression(C=1.0, class_weight=None, dual=False, fit_intercept=True,\n",
              "                   intercept_scaling=1, l1_ratio=None, max_iter=100,\n",
              "                   multi_class='auto', n_jobs=None, penalty='l2',\n",
              "                   random_state=None, solver='lbfgs', tol=0.0001, verbose=0,\n",
              "                   warm_start=False)"
            ]
          },
          "metadata": {},
          "execution_count": 219
        }
      ]
    },
    {
      "cell_type": "code",
      "source": [
        "y_predict = logis.predict(X_test)"
      ],
      "metadata": {
        "id": "45B-lTAiLizG"
      },
      "id": "45B-lTAiLizG",
      "execution_count": null,
      "outputs": []
    },
    {
      "cell_type": "code",
      "source": [
        "print(classification_report(y_test, y_predict))"
      ],
      "metadata": {
        "colab": {
          "base_uri": "https://localhost:8080/"
        },
        "id": "cm3rSFylLthW",
        "outputId": "baea4945-d550-49c3-e281-eb76cf0320f3"
      },
      "id": "cm3rSFylLthW",
      "execution_count": null,
      "outputs": [
        {
          "output_type": "stream",
          "name": "stdout",
          "text": [
            "              precision    recall  f1-score   support\n",
            "\n",
            "           1       0.58      0.58      0.58        96\n",
            "           2       0.63      0.66      0.65       125\n",
            "           3       0.54      0.35      0.42        20\n",
            "\n",
            "    accuracy                           0.61       241\n",
            "   macro avg       0.58      0.53      0.55       241\n",
            "weighted avg       0.60      0.61      0.60       241\n",
            "\n"
          ]
        }
      ]
    },
    {
      "cell_type": "markdown",
      "source": [
        "### 5.2.3 Árvore de decisão"
      ],
      "metadata": {
        "id": "spU3uBcWNPhU"
      },
      "id": "spU3uBcWNPhU"
    },
    {
      "cell_type": "code",
      "source": [
        "dtree = DecisionTreeClassifier()"
      ],
      "metadata": {
        "id": "JpdEemA1NAmn"
      },
      "id": "JpdEemA1NAmn",
      "execution_count": null,
      "outputs": []
    },
    {
      "cell_type": "code",
      "source": [
        "dtree = dtree.fit(X_train,y_train)"
      ],
      "metadata": {
        "id": "73rPqE3xM6_X"
      },
      "id": "73rPqE3xM6_X",
      "execution_count": null,
      "outputs": []
    },
    {
      "cell_type": "code",
      "source": [
        "y_predict = dtree.predict(X_test)"
      ],
      "metadata": {
        "id": "jwzPm9v4NGEe"
      },
      "id": "jwzPm9v4NGEe",
      "execution_count": null,
      "outputs": []
    },
    {
      "cell_type": "code",
      "source": [
        "print(classification_report(y_test, y_predict))"
      ],
      "metadata": {
        "colab": {
          "base_uri": "https://localhost:8080/"
        },
        "id": "8i_W6a6dNJe3",
        "outputId": "a29648a5-959f-426f-8272-325c9e1a9752"
      },
      "id": "8i_W6a6dNJe3",
      "execution_count": null,
      "outputs": [
        {
          "output_type": "stream",
          "name": "stdout",
          "text": [
            "              precision    recall  f1-score   support\n",
            "\n",
            "           1       0.74      0.81      0.78        96\n",
            "           2       0.83      0.78      0.80       125\n",
            "           3       0.63      0.60      0.62        20\n",
            "\n",
            "    accuracy                           0.78       241\n",
            "   macro avg       0.73      0.73      0.73       241\n",
            "weighted avg       0.78      0.78      0.78       241\n",
            "\n"
          ]
        }
      ]
    },
    {
      "cell_type": "markdown",
      "source": [
        "### 5.4 Random Forest"
      ],
      "metadata": {
        "id": "Ks6K_kP0PiJS"
      },
      "id": "Ks6K_kP0PiJS"
    },
    {
      "cell_type": "code",
      "source": [
        "rf = RandomForestClassifier()"
      ],
      "metadata": {
        "id": "JvkLOuNOPo1H"
      },
      "id": "JvkLOuNOPo1H",
      "execution_count": null,
      "outputs": []
    },
    {
      "cell_type": "code",
      "source": [
        "rf = rf.fit(X_train,y_train)"
      ],
      "metadata": {
        "id": "Z5-h0jBrPp2_"
      },
      "id": "Z5-h0jBrPp2_",
      "execution_count": null,
      "outputs": []
    },
    {
      "cell_type": "code",
      "source": [
        "y_predict = rf.predict(X_test)"
      ],
      "metadata": {
        "id": "Zxy-3OxKPtWi"
      },
      "id": "Zxy-3OxKPtWi",
      "execution_count": null,
      "outputs": []
    },
    {
      "cell_type": "code",
      "source": [
        "print(classification_report(y_test,y_predict))"
      ],
      "metadata": {
        "colab": {
          "base_uri": "https://localhost:8080/"
        },
        "id": "-8qOPtqxPv33",
        "outputId": "45d8474b-6e43-4af4-88d5-d557f1efb402"
      },
      "id": "-8qOPtqxPv33",
      "execution_count": null,
      "outputs": [
        {
          "output_type": "stream",
          "name": "stdout",
          "text": [
            "              precision    recall  f1-score   support\n",
            "\n",
            "           1       0.74      0.81      0.78        96\n",
            "           2       0.83      0.78      0.80       125\n",
            "           3       0.63      0.60      0.62        20\n",
            "\n",
            "    accuracy                           0.78       241\n",
            "   macro avg       0.73      0.73      0.73       241\n",
            "weighted avg       0.78      0.78      0.78       241\n",
            "\n"
          ]
        }
      ]
    },
    {
      "cell_type": "markdown",
      "source": [
        "* Os modelos que melhor perfomaram foram Árvore de Decisão e Floresta Aleatória, ambos com 78% de acurácia."
      ],
      "metadata": {
        "id": "BFjW54CdaNWB"
      },
      "id": "BFjW54CdaNWB"
    }
  ],
  "metadata": {
    "kernelspec": {
      "display_name": "Python 3 (ipykernel)",
      "language": "python",
      "name": "python3"
    },
    "language_info": {
      "codemirror_mode": {
        "name": "ipython",
        "version": 3
      },
      "file_extension": ".py",
      "mimetype": "text/x-python",
      "name": "python",
      "nbconvert_exporter": "python",
      "pygments_lexer": "ipython3",
      "version": "3.7.0"
    },
    "colab": {
      "provenance": [],
      "collapsed_sections": [
        "f6d17f65"
      ]
    }
  },
  "nbformat": 4,
  "nbformat_minor": 5
}